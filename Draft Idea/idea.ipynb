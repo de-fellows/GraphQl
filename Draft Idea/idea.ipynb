{
 "cells": [
  {
   "cell_type": "markdown",
   "metadata": {},
   "source": [
    "# From Rest API to GraphQL \n",
    "\n",
    "## Goals \n",
    "* Build a simple web application that sorts different genres of music using Rest API and Flask. \n",
    "* Set up our own pythonn API.\n",
    "* Work with HTTP methods and implement GET, POST, PUT and DELETE methods to adjust the database as we want.\n",
    "* Set up our database model using SCLAlchemy.\n",
    "* Implement the above using graphQL.  \n",
    "\n",
    "## Introduction\n",
    "API stands for *Application Programming Interface*, A set of definitions and protocols for integrating web applications. In other words, it is a sutup that allows two softwares or applications to connect and communicate with each other. We know that every software differ form one another. When two softwares communicate, one software is going to deal with whatever in the backend which is the main server. The other software will make requests to the server to retrieve data in the frontend. Rest API stands for *Representational State Transfer*. As the name implies, this type of API helps transfer data over the internet. This API is used to allow users to only view specific things from the backend. Its time that we introduce graphQL. graphQL is a query programming language for APIs and runtime. It simply gives the client the privelage of to ask for exactly what they need and only wat the need, This makes it easier when deling with more complex databases that contain huge amounts of data. Thus, unlike using a standart qurey language like SQL, graphQL is used to quere data from any number of sources.Thankfully, both Rest APIs and graphQL serve under HTTP. Although it is cnsidered a programming language, it pairs nicely with python. Now that we know the difference between Rest API and graphQL, we will try to build an application to store information about music genres using Rest API and then we will try to implement it with graphQL. This example is inspired from Caleb Curry where you can find it [here](https://www.youtube.com/watch?v=qbLc5a9jdXo&list=LL&index=3). \n",
    "\n"
   ]
  },
  {
   "cell_type": "markdown",
   "metadata": {},
   "source": [
    "### Setting up a basic Rest API\n",
    "lets start by creating our oun Rest API with python. We will use Flask as our framework. Flask is highly recommended as it is a more simpler setup compared to other frameworks. It runs on localhost:5000. However, any other framework will do the job. We install the dependecies that we need. To do this, write the following in the terminal:"
   ]
  },
  {
   "cell_type": "code",
   "execution_count": null,
   "metadata": {},
   "outputs": [],
   "source": [
    "# pip install flask\n",
    "# pip install flask-sqlalchemy\n",
    "# pip intall requests"
   ]
  },
  {
   "cell_type": "markdown",
   "metadata": {},
   "source": [
    "create a file and name it RestApp.py that we can write our initial code in. However, we must ensure that the virtial environment is running. Start by making the flask app. For now, we will just return a simple string. This will give a response message of 200! which means the server is running without problems. "
   ]
  },
  {
   "cell_type": "code",
   "execution_count": null,
   "metadata": {},
   "outputs": [
    {
     "name": "stdout",
     "output_type": "stream",
     "text": [
      " * Serving Flask app \"__main__\" (lazy loading)\n",
      " * Environment: production\n",
      "\u001b[31m   WARNING: This is a development server. Do not use it in a production deployment.\u001b[0m\n",
      "\u001b[2m   Use a production WSGI server instead.\u001b[0m\n",
      " * Debug mode: off\n"
     ]
    },
    {
     "name": "stderr",
     "output_type": "stream",
     "text": [
      " * Running on http://127.0.0.1:5000/ (Press CTRL+C to quit)\n"
     ]
    }
   ],
   "source": [
    "from flask import Flask\n",
    "\n",
    "app = Flask(__name__)\n",
    "\n",
    "@app.route('/')\n",
    "def index():\n",
    "    return \"Music Genres!\"\n",
    "\n",
    "if __name__ == \"__main__\":\n",
    "    app.run()\n"
   ]
  },
  {
   "cell_type": "markdown",
   "metadata": {},
   "source": [
    "![Music Genres!](Screenshot_1.png) "
   ]
  },
  {
   "cell_type": "markdown",
   "metadata": {},
   "source": [
    "In the terminal, we would like to export our flask app to be able to run it. We have to do this every time we want to run our flask app."
   ]
  },
  {
   "cell_type": "code",
   "execution_count": null,
   "metadata": {},
   "outputs": [],
   "source": [
    "# SET FLASK_APP=RestApp.py\n",
    "# SET FLASK_ENV=development\n",
    "# flask run"
   ]
  },
  {
   "cell_type": "markdown",
   "metadata": {},
   "source": [
    "Now we are going to make the application to store music genres by creating a class that inherits from an SQLAlchemy database model. The attribute unique here is used if we want every name to be different and the attribute nullable is used if we do not want any columns to be empty. repr method is used to represent the class's objects as strings that we can understand."
   ]
  },
  {
   "cell_type": "code",
   "execution_count": null,
   "metadata": {},
   "outputs": [],
   "source": [
    "class Music(db.Model):\n",
    "    id = db.Column(db.Integer, primary_key=True)\n",
    "    name = db.Column(db.String, unique=True, nullable=False)\n",
    "    description = db.Column(db.String(120))\n",
    "\n",
    "    def __repr__(self):\n",
    "        return f\"{self.name} - {self.description}\""
   ]
  },
  {
   "cell_type": "markdown",
   "metadata": {},
   "source": [
    "Going back to the terminal, we will find that the database is not defined. We want to create our data base using SQLAlchemy. To create a connection to the database, the database will be an instance of sqlite in the same directory. "
   ]
  },
  {
   "cell_type": "code",
   "execution_count": null,
   "metadata": {},
   "outputs": [],
   "source": [
    "from flask_sqlalchemy import SQLAlchemy\n",
    "\n",
    "app.config['SQLALCHEMY_DATABASE_URI'] = 'sqlite:///music.db'\n",
    "db = SQLAlchemy(app)"
   ]
  },
  {
   "cell_type": "markdown",
   "metadata": {},
   "source": [
    "Back to the terminal. Running on python, we will import the database from our application to create our desired data tables. This will create a music.db file in our repository. We will create our first entry in the database. Each piece of data is treated as an object of the class that we created. Thus, creating data is creating instances of the class Music and assigning it parameters to describe the data. Because we used the repr method, we can just type music and the list of music genres will be listed in a string format. Note that we will need to import the class as well in the fourth line or else the instance Music will not be defined. To test that we added a data row successfully we can simply type in music into the terminal and it will give us the data that we entered. "
   ]
  },
  {
   "cell_type": "code",
   "execution_count": null,
   "metadata": {},
   "outputs": [],
   "source": [
    "# python\n",
    "# from RestApp import db\n",
    "# db.create_all()\n",
    "# from RestApp import Music\n",
    "# db.session.add(music)\n",
    "# db.session.commit()"
   ]
  },
  {
   "cell_type": "markdown",
   "metadata": {},
   "source": [
    "We can add another music genre."
   ]
  },
  {
   "cell_type": "code",
   "execution_count": null,
   "metadata": {
    "vscode": {
     "languageId": "powershell"
    }
   },
   "outputs": [],
   "source": [
    "# db.session.add(Music(name=\"Rock\", description=\"A type of pop music\"))\n",
    "# db.session.commit()\n",
    "# Music.quere.all()"
   ]
  },
  {
   "cell_type": "markdown",
   "metadata": {},
   "source": [
    "If we want to use our data with the server, we have to go back to the route(/music). Here we are going to implement a JSON list and iterate through the music genres. This way, the output will be in the form of a list of dictionaries containing the data. this way we go back to the website and reload it, the data will be diplayed with one key which is __music__ and a pair of a list of dictionaries. "
   ]
  },
  {
   "cell_type": "code",
   "execution_count": null,
   "metadata": {},
   "outputs": [],
   "source": [
    "@app.route(\"/music\")\n",
    "def get_music():\n",
    "    music = Music.query.all()\n",
    "\n",
    "    output = []\n",
    "    for music in Music:\n",
    "        music_info = {'name': music.name, 'description': music.description}\n",
    "\n",
    "        output.append(music_info)"
   ]
  },
  {
   "cell_type": "markdown",
   "metadata": {},
   "source": [
    "If we want to grap a specific genre, an easy way would be fetching it bu its id. So to do this, we develop a new route. In this route, we will implement a new function and pass the id of a specific music genre. Because we are using dictionaries to store data, we do not have to use the __jsonify__. However, you will need to use it if working with other types of data structures.    "
   ]
  },
  {
   "cell_type": "markdown",
   "metadata": {},
   "source": [
    "![Data Presentation](Screenshot_2.png) "
   ]
  },
  {
   "cell_type": "code",
   "execution_count": null,
   "metadata": {},
   "outputs": [],
   "source": [
    "@app.route('/music/<id>')\n",
    "def get_music_id(id):\n",
    "    music = Music.query.get_or_404(id)         # this will either fetch the drink with a specific id or return a 404 error\n",
    "    return {\"name\": music.name, \"description\":music.description}"
   ]
  },
  {
   "cell_type": "markdown",
   "metadata": {},
   "source": [
    "Lets test this by going back to the browser and type localhost5000/music/1."
   ]
  },
  {
   "cell_type": "markdown",
   "metadata": {},
   "source": [
    "![Fetch id](Screenshot_3.png) "
   ]
  },
  {
   "cell_type": "markdown",
   "metadata": {},
   "source": [
    "Now try to fetch a music genre with id 3. The result would be a 'Not Found' error as we have not yet entered a thired genre to our database."
   ]
  },
  {
   "cell_type": "markdown",
   "metadata": {},
   "source": [
    "![Error 404! ](Screenshot_4.png) "
   ]
  },
  {
   "cell_type": "markdown",
   "metadata": {},
   "source": [
    "### Additional HTTP methods \n"
   ]
  },
  {
   "cell_type": "markdown",
   "metadata": {},
   "source": [
    "........................................"
   ]
  },
  {
   "cell_type": "markdown",
   "metadata": {},
   "source": [
    "## References \n",
    "\n",
    "Yves Pauchard and Yerba Mate Press. From Scripts to Applications. \n",
    "https://d2l.ucalgary.ca/d2l/le/content/425079/fullscreen/5107246/View\n",
    "\n",
    "Ultimate programming all-in-one tutorials. CodeBreakthrough. (n.d.). Retrieved June 6, 2022, \n",
    "https://www.codebreakthrough.com/ultimate-programming-all-in-one-tutorials?coupon=LEARNFORFREE \n",
    "\n",
    "IBM Cloud Education. (n.d.). Rest-apis. IBM. Retrieved June 6, 2022, \n",
    "https://www.ibm.com/cloud/learn/rest-apis \n",
    "\n",
    "Audcharevorakul, P. (n.d.). What is graphql? What is GraphQL? Retrieved June 6, 2022, \n",
    "https://www.salsify.com/blog/engineering/what-is-graphql? \n",
    "\n",
    "https://www.apollographql.com/blog/graphql/basics/what-is-graphql-introduction/"
   ]
  }
 ],
 "metadata": {
  "interpreter": {
   "hash": "df502194ea3b876d6bc9080569aa37908efdd36f8733147960817fea486d4270"
  },
  "kernelspec": {
   "display_name": "Python 3.9.7 ('ensf311')",
   "language": "python",
   "name": "python3"
  },
  "language_info": {
   "codemirror_mode": {
    "name": "ipython",
    "version": 3
   },
   "file_extension": ".py",
   "mimetype": "text/x-python",
   "name": "python",
   "nbconvert_exporter": "python",
   "pygments_lexer": "ipython3",
   "version": "3.9.7"
  },
  "orig_nbformat": 4
 },
 "nbformat": 4,
 "nbformat_minor": 2
}
